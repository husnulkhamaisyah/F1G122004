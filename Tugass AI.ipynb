{
 "cells": [
  {
   "cell_type": "markdown",
   "id": "82f7e9c5-f394-42c3-abd9-f17d57b8b9b0",
   "metadata": {},
   "source": [
    "pandas digunakan untuk membacabaca data dari file CSV di lokasi tertentu. Kemudian data itu dimasukkan ke dalam DataFrame. Kemudian, kita  dapat melakukan berbagai operasi analisis dan manipulasi data menggunakan berbagai fungsi yang disediakan oleh pandas."
   ]
  },
  {
   "cell_type": "code",
   "execution_count": 13,
   "id": "aa388b73-72b8-4c36-8389-9a7109b943a1",
   "metadata": {},
   "outputs": [],
   "source": [
    "import pandas as pd\n",
    "dataset = pd.read_csv('D:\\AI\\drug200.csv')"
   ]
  },
  {
   "cell_type": "code",
   "execution_count": null,
   "id": "5b2c64b1-b120-4e92-987a-c700728687fa",
   "metadata": {},
   "outputs": [],
   "source": [
    "Ini seperti memberitahu untuk menampilkan semua data yang ada di tabel data kita. Jadi kalo kita mau liat semua datanya, tinggal pakai print(dataset)."
   ]
  },
  {
   "cell_type": "code",
   "execution_count": 14,
   "id": "d8989623-54fd-45f0-8cf4-d8c7289a249d",
   "metadata": {},
   "outputs": [
    {
     "name": "stdout",
     "output_type": "stream",
     "text": [
      "     Age Sex      BP Cholesterol  Na_to_K   Drug\n",
      "0     23   F    HIGH        HIGH   25.355  DrugY\n",
      "1     47   M     LOW        HIGH   13.093  drugC\n",
      "2     47   M     LOW        HIGH   10.114  drugC\n",
      "3     28   F  NORMAL        HIGH    7.798  drugX\n",
      "4     61   F     LOW        HIGH   18.043  DrugY\n",
      "..   ...  ..     ...         ...      ...    ...\n",
      "195   56   F     LOW        HIGH   11.567  drugC\n",
      "196   16   M     LOW        HIGH   12.006  drugC\n",
      "197   52   M  NORMAL        HIGH    9.894  drugX\n",
      "198   23   M  NORMAL      NORMAL   14.020  drugX\n",
      "199   40   F     LOW      NORMAL   11.349  drugX\n",
      "\n",
      "[200 rows x 6 columns]\n"
     ]
    }
   ],
   "source": [
    "print(dataset)"
   ]
  },
  {
   "cell_type": "code",
   "execution_count": null,
   "id": "a0c5c9ee-3cbb-42cc-9f09-47407e4233bc",
   "metadata": {},
   "outputs": [],
   "source": [
    " jika ingin melihat nama-nama kolom yang ada dalam DataFrame dataset, cukup menggunakan dataset.columns."
   ]
  },
  {
   "cell_type": "code",
   "execution_count": 15,
   "id": "dceca418-d6b6-4147-981c-b0a6c2979920",
   "metadata": {},
   "outputs": [
    {
     "data": {
      "text/plain": [
       "Index(['Age', 'Sex', 'BP', 'Cholesterol', 'Na_to_K', 'Drug'], dtype='object')"
      ]
     },
     "execution_count": 15,
     "metadata": {},
     "output_type": "execute_result"
    }
   ],
   "source": [
    "dataset.columns"
   ]
  },
  {
   "cell_type": "code",
   "execution_count": null,
   "id": "6acb3576-4c89-479b-9272-fa8c5a46217c",
   "metadata": {},
   "outputs": [],
   "source": [
    "Ini kayak mengambil sebagian kolom-kolom dari tabel data. Jadi, kalo mau pake data dari kolom\n",
    "'Age', 'Sex', 'BP', 'Cholesterol', sama 'Na_to_K',\n",
    "menggunakan x = dataset[['Age', 'Sex', 'BP', 'Cholesterol', 'Na_to_K']]."
   ]
  },
  {
   "cell_type": "code",
   "execution_count": 16,
   "id": "1b943aba-8dd7-4562-bf3c-51d191a8766d",
   "metadata": {},
   "outputs": [
    {
     "name": "stdout",
     "output_type": "stream",
     "text": [
      "     Age Sex      BP Cholesterol  Na_to_K\n",
      "0     23   F    HIGH        HIGH   25.355\n",
      "1     47   M     LOW        HIGH   13.093\n",
      "2     47   M     LOW        HIGH   10.114\n",
      "3     28   F  NORMAL        HIGH    7.798\n",
      "4     61   F     LOW        HIGH   18.043\n",
      "..   ...  ..     ...         ...      ...\n",
      "195   56   F     LOW        HIGH   11.567\n",
      "196   16   M     LOW        HIGH   12.006\n",
      "197   52   M  NORMAL        HIGH    9.894\n",
      "198   23   M  NORMAL      NORMAL   14.020\n",
      "199   40   F     LOW      NORMAL   11.349\n",
      "\n",
      "[200 rows x 5 columns]\n"
     ]
    }
   ],
   "source": [
    "x = dataset[['Age', 'Sex', 'BP', 'Cholesterol', 'Na_to_K',]]\n",
    "print(x)"
   ]
  },
  {
   "cell_type": "code",
   "execution_count": null,
   "id": "fad21e61-17c9-483b-a4a2-20c275390f7b",
   "metadata": {},
   "outputs": [],
   "source": [
    "Ini kayak mengambil satu kolom dari tabel data, yaitu kolom 'Drug'. Jadi, kalo kita mau pake data dari kolom\n",
    "'Drug', tinggal pakai y = dataset[['Drug']]."
   ]
  },
  {
   "cell_type": "code",
   "execution_count": 17,
   "id": "2948f4be-edb5-4e3b-bad1-521fcbabda35",
   "metadata": {},
   "outputs": [
    {
     "name": "stdout",
     "output_type": "stream",
     "text": [
      "      Drug\n",
      "0    DrugY\n",
      "1    drugC\n",
      "2    drugC\n",
      "3    drugX\n",
      "4    DrugY\n",
      "..     ...\n",
      "195  drugC\n",
      "196  drugC\n",
      "197  drugX\n",
      "198  drugX\n",
      "199  drugX\n",
      "\n",
      "[200 rows x 1 columns]\n"
     ]
    }
   ],
   "source": [
    "y = dataset[['Drug']]\n",
    "print(y)"
   ]
  },
  {
   "cell_type": "code",
   "execution_count": 18,
   "id": "9a9ad960-5ced-450a-a0e9-bfaea026e21b",
   "metadata": {},
   "outputs": [],
   "source": [
    "import sklearn\n",
    "from sklearn.model_selection import train_test_split\n",
    "\n",
    "x_train, x_test, y_train, y_test = train_test_split(x, y, test_size=0.2, random_state=1)"
   ]
  },
  {
   "cell_type": "code",
   "execution_count": 19,
   "id": "07569fd3-1e8f-4f2c-8a02-9417c4f4312d",
   "metadata": {},
   "outputs": [],
   "source": [
    "dataset = pd.get_dummies(dataset)"
   ]
  },
  {
   "cell_type": "code",
   "execution_count": 20,
   "id": "432395c6-ae43-4876-ac42-950e4ab4f701",
   "metadata": {},
   "outputs": [
    {
     "name": "stdout",
     "output_type": "stream",
     "text": [
      "     Age  Na_to_K  Sex_F  Sex_M  BP_HIGH  BP_LOW  BP_NORMAL  Cholesterol_HIGH  \\\n",
      "0     23   25.355   True  False     True   False      False              True   \n",
      "1     47   13.093  False   True    False    True      False              True   \n",
      "2     47   10.114  False   True    False    True      False              True   \n",
      "3     28    7.798   True  False    False   False       True              True   \n",
      "4     61   18.043   True  False    False    True      False              True   \n",
      "..   ...      ...    ...    ...      ...     ...        ...               ...   \n",
      "195   56   11.567   True  False    False    True      False              True   \n",
      "196   16   12.006  False   True    False    True      False              True   \n",
      "197   52    9.894  False   True    False   False       True              True   \n",
      "198   23   14.020  False   True    False   False       True             False   \n",
      "199   40   11.349   True  False    False    True      False             False   \n",
      "\n",
      "     Cholesterol_NORMAL  Drug_DrugY  Drug_drugA  Drug_drugB  Drug_drugC  \\\n",
      "0                 False        True       False       False       False   \n",
      "1                 False       False       False       False        True   \n",
      "2                 False       False       False       False        True   \n",
      "3                 False       False       False       False       False   \n",
      "4                 False        True       False       False       False   \n",
      "..                  ...         ...         ...         ...         ...   \n",
      "195               False       False       False       False        True   \n",
      "196               False       False       False       False        True   \n",
      "197               False       False       False       False       False   \n",
      "198                True       False       False       False       False   \n",
      "199                True       False       False       False       False   \n",
      "\n",
      "     Drug_drugX  \n",
      "0         False  \n",
      "1         False  \n",
      "2         False  \n",
      "3          True  \n",
      "4         False  \n",
      "..          ...  \n",
      "195       False  \n",
      "196       False  \n",
      "197        True  \n",
      "198        True  \n",
      "199        True  \n",
      "\n",
      "[200 rows x 14 columns]\n"
     ]
    }
   ],
   "source": [
    "print(dataset)"
   ]
  },
  {
   "cell_type": "code",
   "execution_count": 21,
   "id": "0199c732-233f-4e80-82f6-a871cea23580",
   "metadata": {},
   "outputs": [
    {
     "name": "stdout",
     "output_type": "stream",
     "text": [
      "Age                   0\n",
      "Na_to_K               0\n",
      "Sex_F                 0\n",
      "Sex_M                 0\n",
      "BP_HIGH               0\n",
      "BP_LOW                0\n",
      "BP_NORMAL             0\n",
      "Cholesterol_HIGH      0\n",
      "Cholesterol_NORMAL    0\n",
      "Drug_DrugY            0\n",
      "Drug_drugA            0\n",
      "Drug_drugB            0\n",
      "Drug_drugC            0\n",
      "Drug_drugX            0\n",
      "dtype: int64\n"
     ]
    }
   ],
   "source": [
    "print(dataset.isnull().sum())"
   ]
  },
  {
   "cell_type": "code",
   "execution_count": 22,
   "id": "0ee11337-3f63-4f01-84e5-ecf7d8e8e7a7",
   "metadata": {},
   "outputs": [
    {
     "name": "stdout",
     "output_type": "stream",
     "text": [
      "Empty DataFrame\n",
      "Columns: [Age, Na_to_K, Sex_F, Sex_M, BP_HIGH, BP_LOW, BP_NORMAL, Cholesterol_HIGH, Cholesterol_NORMAL, Drug_DrugY, Drug_drugA, Drug_drugB, Drug_drugC, Drug_drugX]\n",
      "Index: []\n"
     ]
    }
   ],
   "source": [
    "print(dataset[dataset.duplicated()])"
   ]
  },
  {
   "cell_type": "code",
   "execution_count": 30,
   "id": "588c2731-338c-4b0a-9bd5-be53c47a81b6",
   "metadata": {},
   "outputs": [
    {
     "name": "stdout",
     "output_type": "stream",
     "text": [
      "     Age  Na_to_K  Sex_F  Sex_M  BP_HIGH  BP_LOW  BP_NORMAL  Cholesterol_HIGH  \\\n",
      "0     23   25.355      1      0        1       0          0                 1   \n",
      "1     47   13.093      0      1        0       1          0                 1   \n",
      "2     47   10.114      0      1        0       1          0                 1   \n",
      "3     28    7.798      1      0        0       0          1                 1   \n",
      "4     61   18.043      1      0        0       1          0                 1   \n",
      "..   ...      ...    ...    ...      ...     ...        ...               ...   \n",
      "195   56   11.567      1      0        0       1          0                 1   \n",
      "196   16   12.006      0      1        0       1          0                 1   \n",
      "197   52    9.894      0      1        0       0          1                 1   \n",
      "198   23   14.020      0      1        0       0          1                 0   \n",
      "199   40   11.349      1      0        0       1          0                 0   \n",
      "\n",
      "     Cholesterol_NORMAL  Drug_DrugY  Drug_drugA  Drug_drugB  Drug_drugC  \\\n",
      "0                     0           1           0           0           0   \n",
      "1                     0           0           0           0           1   \n",
      "2                     0           0           0           0           1   \n",
      "3                     0           0           0           0           0   \n",
      "4                     0           1           0           0           0   \n",
      "..                  ...         ...         ...         ...         ...   \n",
      "195                   0           0           0           0           1   \n",
      "196                   0           0           0           0           1   \n",
      "197                   0           0           0           0           0   \n",
      "198                   1           0           0           0           0   \n",
      "199                   1           0           0           0           0   \n",
      "\n",
      "     Drug_drugX  \n",
      "0             0  \n",
      "1             0  \n",
      "2             0  \n",
      "3             1  \n",
      "4             0  \n",
      "..          ...  \n",
      "195           0  \n",
      "196           0  \n",
      "197           1  \n",
      "198           1  \n",
      "199           1  \n",
      "\n",
      "[200 rows x 14 columns]\n"
     ]
    }
   ],
   "source": [
    "print(dataset)"
   ]
  },
  {
   "cell_type": "code",
   "execution_count": null,
   "id": "21bea7cf-f555-4fc3-aeab-d4ec706c5b06",
   "metadata": {},
   "outputs": [],
   "source": [
    "Ini seperti menyimpan semua data dari tabel kita ke dalam sebuah file CSV yang namanya \n",
    "'cleaned_dataset.csv'. Jadi, kalo kita mau simpan datanya, tinggal \n",
    "pakai dataset.to_csv('cleaned_dataset.csv', index=False)."
   ]
  },
  {
   "cell_type": "code",
   "execution_count": 33,
   "id": "269093f3-a179-43d2-93d6-21618f4934a2",
   "metadata": {},
   "outputs": [
    {
     "name": "stdout",
     "output_type": "stream",
     "text": [
      "Clean data selesai sebagai 'cleaned_dataset.csv'.\n"
     ]
    }
   ],
   "source": [
    "dataset.to_csv('cleaned_dataset.csv', index=False)\n",
    "print(\"Clean data selesai sebagai 'cleaned_dataset.csv'.\")"
   ]
  },
  {
   "cell_type": "code",
   "execution_count": 36,
   "id": "8cdbf1c0-e61b-439e-ad9c-b93c76f1c580",
   "metadata": {},
   "outputs": [
    {
     "name": "stdout",
     "output_type": "stream",
     "text": [
      "     Age  Na_to_K  Sex_F  Sex_M  BP_HIGH  BP_LOW  BP_NORMAL  Cholesterol_HIGH  \\\n",
      "0     23   25.355   True  False     True   False      False              True   \n",
      "1     47   13.093  False   True    False    True      False              True   \n",
      "2     47   10.114  False   True    False    True      False              True   \n",
      "3     28    7.798   True  False    False   False       True              True   \n",
      "4     61   18.043   True  False    False    True      False              True   \n",
      "..   ...      ...    ...    ...      ...     ...        ...               ...   \n",
      "195   56   11.567   True  False    False    True      False              True   \n",
      "196   16   12.006  False   True    False    True      False              True   \n",
      "197   52    9.894  False   True    False   False       True              True   \n",
      "198   23   14.020  False   True    False   False       True             False   \n",
      "199   40   11.349   True  False    False    True      False             False   \n",
      "\n",
      "     Cholesterol_NORMAL  Drug_DrugY  Drug_drugA  Drug_drugB  Drug_drugC  \\\n",
      "0                 False        True       False       False       False   \n",
      "1                 False       False       False       False        True   \n",
      "2                 False       False       False       False        True   \n",
      "3                 False       False       False       False       False   \n",
      "4                 False        True       False       False       False   \n",
      "..                  ...         ...         ...         ...         ...   \n",
      "195               False       False       False       False        True   \n",
      "196               False       False       False       False        True   \n",
      "197               False       False       False       False       False   \n",
      "198                True       False       False       False       False   \n",
      "199                True       False       False       False       False   \n",
      "\n",
      "     Drug_drugX  \n",
      "0         False  \n",
      "1         False  \n",
      "2         False  \n",
      "3          True  \n",
      "4         False  \n",
      "..          ...  \n",
      "195       False  \n",
      "196       False  \n",
      "197        True  \n",
      "198        True  \n",
      "199        True  \n",
      "\n",
      "[200 rows x 14 columns]\n"
     ]
    }
   ],
   "source": [
    "print (dataset)"
   ]
  },
  {
   "cell_type": "code",
   "execution_count": null,
   "id": "4d877e3f-77de-4bb3-ba32-49c6db6ea698",
   "metadata": {},
   "outputs": [],
   "source": [
    "Ini kayak cara buat simpan tabel data kita ke dalam sebuah file CSV yang namanya\n",
    "'cleaned_dataset.csv'. Jadi, kalo mau simpan datanya,\n",
    "tinggal pakai dataset.to_csv('cleaned_dataset.csv', index=False).\n"
   ]
  },
  {
   "cell_type": "code",
   "execution_count": 37,
   "id": "442c184d-5b96-424e-bc5a-cb84ce1e3c1b",
   "metadata": {},
   "outputs": [],
   "source": [
    "dataset.to_csv('cleaned_dataset.csv', index=False)"
   ]
  },
  {
   "cell_type": "code",
   "execution_count": 38,
   "id": "552ec8ba-80a1-4690-aca1-fbe454daadb3",
   "metadata": {},
   "outputs": [
    {
     "name": "stdout",
     "output_type": "stream",
     "text": [
      "Clean data selesai sebagai 'cleaned_dataset.csv'.\n"
     ]
    }
   ],
   "source": [
    "print(\"Clean data selesai sebagai 'cleaned_dataset.csv'.\")"
   ]
  },
  {
   "cell_type": "code",
   "execution_count": 39,
   "id": "33b10b42-fd5e-4fdd-a064-ed498a1f1e13",
   "metadata": {},
   "outputs": [
    {
     "data": {
      "text/plain": [
       "Index(['Age', 'Na_to_K', 'Sex_F', 'Sex_M', 'BP_HIGH', 'BP_LOW', 'BP_NORMAL',\n",
       "       'Cholesterol_HIGH', 'Cholesterol_NORMAL', 'Drug_DrugY', 'Drug_drugA',\n",
       "       'Drug_drugB', 'Drug_drugC', 'Drug_drugX'],\n",
       "      dtype='object')"
      ]
     },
     "execution_count": 39,
     "metadata": {},
     "output_type": "execute_result"
    }
   ],
   "source": [
    "dataset.columns"
   ]
  },
  {
   "cell_type": "code",
   "execution_count": null,
   "id": "b3c1ce70-4131-485b-879c-df6f09c9a79d",
   "metadata": {},
   "outputs": [],
   "source": [
    "Ini sepertti mengambil beberapa kolom dari tabel data kita dan disimpan dalam variabel baru yang namanya x. Jadi, kalo kita mau pake data dari\n",
    "kolom-kolom tersebut, tinggal pakai x = dataset[['Age', 'Na_to_K', 'Sex_F', 'Sex_M', 'BP_HIGH', 'BP_LOW', 'BP_NORMAL', 'Cholesterol_HIGH', \n",
    "'Cholesterol_NORMAL']]."
   ]
  },
  {
   "cell_type": "code",
   "execution_count": 40,
   "id": "6678b6ad-e4c4-47fb-b4f5-ba661b8a572a",
   "metadata": {},
   "outputs": [],
   "source": [
    "x = dataset[['Age', 'Na_to_K', 'Sex_F', 'Sex_M', 'BP_HIGH', 'BP_LOW', 'BP_NORMAL',\n",
    "       'Cholesterol_HIGH', 'Cholesterol_NORMAL']]"
   ]
  },
  {
   "cell_type": "code",
   "execution_count": 41,
   "id": "66f7594f-2e19-4c8b-9755-bb6dd3dab6ff",
   "metadata": {},
   "outputs": [
    {
     "name": "stdout",
     "output_type": "stream",
     "text": [
      "     Age  Na_to_K  Sex_F  Sex_M  BP_HIGH  BP_LOW  BP_NORMAL  Cholesterol_HIGH  \\\n",
      "0     23   25.355      1      0        1       0          0                 1   \n",
      "1     47   13.093      0      1        0       1          0                 1   \n",
      "2     47   10.114      0      1        0       1          0                 1   \n",
      "3     28    7.798      1      0        0       0          1                 1   \n",
      "4     61   18.043      1      0        0       1          0                 1   \n",
      "..   ...      ...    ...    ...      ...     ...        ...               ...   \n",
      "195   56   11.567      1      0        0       1          0                 1   \n",
      "196   16   12.006      0      1        0       1          0                 1   \n",
      "197   52    9.894      0      1        0       0          1                 1   \n",
      "198   23   14.020      0      1        0       0          1                 0   \n",
      "199   40   11.349      1      0        0       1          0                 0   \n",
      "\n",
      "     Cholesterol_NORMAL  \n",
      "0                     0  \n",
      "1                     0  \n",
      "2                     0  \n",
      "3                     0  \n",
      "4                     0  \n",
      "..                  ...  \n",
      "195                   0  \n",
      "196                   0  \n",
      "197                   0  \n",
      "198                   1  \n",
      "199                   1  \n",
      "\n",
      "[200 rows x 9 columns]\n"
     ]
    }
   ],
   "source": [
    "print(x)"
   ]
  },
  {
   "cell_type": "code",
   "execution_count": 42,
   "id": "caeaa330-f8f7-4b58-be8b-fcfe442547ab",
   "metadata": {},
   "outputs": [],
   "source": [
    "y = dataset[['Drug_DrugY', 'Drug_drugA',\n",
    "       'Drug_drugB', 'Drug_drugC', 'Drug_drugX']]"
   ]
  },
  {
   "cell_type": "code",
   "execution_count": 43,
   "id": "29aff216-49de-4bde-a185-055323852b37",
   "metadata": {},
   "outputs": [
    {
     "name": "stdout",
     "output_type": "stream",
     "text": [
      "     Drug_DrugY  Drug_drugA  Drug_drugB  Drug_drugC  Drug_drugX\n",
      "0             1           0           0           0           0\n",
      "1             0           0           0           1           0\n",
      "2             0           0           0           1           0\n",
      "3             0           0           0           0           1\n",
      "4             1           0           0           0           0\n",
      "..          ...         ...         ...         ...         ...\n",
      "195           0           0           0           1           0\n",
      "196           0           0           0           1           0\n",
      "197           0           0           0           0           1\n",
      "198           0           0           0           0           1\n",
      "199           0           0           0           0           1\n",
      "\n",
      "[200 rows x 5 columns]\n"
     ]
    }
   ],
   "source": [
    "print(y)"
   ]
  },
  {
   "cell_type": "code",
   "execution_count": null,
   "id": "7286a997-4157-4f5f-94cd-1a77ca588169",
   "metadata": {},
   "outputs": [],
   "source": [
    "Kode ini membagi dataset menjadi dua bagian: satu untuk melatih model (x_train dan y_train) dan satu untuk menguji model (x_test dan y_test).\n",
    "Ini bermanfaat untuk mengevaluasi seberapa baik model bekerja pada data yang tidak digunakan selama pelatihan."
   ]
  },
  {
   "cell_type": "code",
   "execution_count": 41,
   "id": "3b4b7044-92a2-4a1b-853b-08b7f14e617b",
   "metadata": {},
   "outputs": [],
   "source": [
    "import sklearn\n",
    "from sklearn.model_selection import train_test_split\n",
    "\n",
    "x_train, x_test, y_train, y_test = train_test_split(x,y,test_size=0.2, random_state=1)"
   ]
  },
  {
   "cell_type": "code",
   "execution_count": null,
   "id": "6cb5b463-a3f8-4aa2-a0a4-95c1837d7346",
   "metadata": {},
   "outputs": [],
   "source": [
    "Ini memberi tau kita berapa banyak sampel yang ada dalam dataset pengujian (x_test). Jadi kalo kita mau tau jumlahnya, \n",
    "tinggal pakai len(x_test)."
   ]
  },
  {
   "cell_type": "code",
   "execution_count": 42,
   "id": "5017c81a-0167-4197-89a0-0c9aafbbf004",
   "metadata": {},
   "outputs": [
    {
     "data": {
      "text/plain": [
       "40"
      ]
     },
     "execution_count": 42,
     "metadata": {},
     "output_type": "execute_result"
    }
   ],
   "source": [
    "len(x_test)"
   ]
  },
  {
   "cell_type": "code",
   "execution_count": null,
   "id": "3a146cd3-a6e4-45ec-8009-e1cd4213807e",
   "metadata": {},
   "outputs": [],
   "source": [
    "sama seperti len x, ini memberitahu kita berapa banyak sampel yang ada dalam dataset pengujian. jadi jika ingin mengetahui jumlahnya\n",
    "menggunakan len(y_train)"
   ]
  },
  {
   "cell_type": "code",
   "execution_count": 43,
   "id": "03f1c623-d0ab-40e8-b14e-7d554e94ccb9",
   "metadata": {},
   "outputs": [
    {
     "data": {
      "text/plain": [
       "160"
      ]
     },
     "execution_count": 43,
     "metadata": {},
     "output_type": "execute_result"
    }
   ],
   "source": [
    "len(y_train)"
   ]
  },
  {
   "cell_type": "code",
   "execution_count": null,
   "id": "9003e9ed-070c-4e65-bec0-5d6d94f979a2",
   "metadata": {},
   "outputs": [],
   "source": [
    "Kode ini buat model klasifikasi menggunakan pohon keputusan (Decision Tree) dari library sklearn. Objek model disimpan dalam variabel clf."
   ]
  },
  {
   "cell_type": "code",
   "execution_count": 46,
   "id": "7d958126-2a76-4a79-b19e-df72f6b23bd6",
   "metadata": {},
   "outputs": [],
   "source": [
    "from sklearn import tree\n",
    "\n",
    "clf = tree.DecisionTreeClassifier()"
   ]
  },
  {
   "cell_type": "code",
   "execution_count": null,
   "id": "a746be1e-7ab7-4d8b-b7b5-a4c38056b7a8",
   "metadata": {},
   "outputs": [],
   "source": [
    "ini memberi tahu seberapa baik model klasifikasi (clf) bekerja menggunakan validasi silang dengan 5 lipatan (cv=5). \n",
    "Hasilnya disimpan dalam variabel scores."
   ]
  },
  {
   "cell_type": "code",
   "execution_count": 48,
   "id": "4966fd87-8f1d-4858-b2cd-7b9a79c24961",
   "metadata": {},
   "outputs": [],
   "source": [
    "from sklearn.model_selection import cross_val_score\n",
    "scores = cross_val_score(clf, x, y, cv=5)"
   ]
  },
  {
   "cell_type": "code",
   "execution_count": null,
   "id": "e98ff352-e900-4c54-ab60-3c17420da94e",
   "metadata": {},
   "outputs": [],
   "source": [
    "Variabel scores menyimpan skor hasil dari validasi silang yang menunjukkan seberapa baik model klasifikasi\n",
    "bekerja pada setiap lipatan validasi silang."
   ]
  },
  {
   "cell_type": "code",
   "execution_count": 49,
   "id": "7406d9e8-404f-49cb-af66-34a422ec2264",
   "metadata": {},
   "outputs": [
    {
     "data": {
      "text/plain": [
       "array([1.   , 1.   , 1.   , 0.925, 1.   ])"
      ]
     },
     "execution_count": 49,
     "metadata": {},
     "output_type": "execute_result"
    }
   ],
   "source": [
    "scores"
   ]
  },
  {
   "cell_type": "code",
   "execution_count": null,
   "id": "46b4dea7-30a6-4fa7-9abc-cfb0e2d46c55",
   "metadata": {},
   "outputs": [],
   "source": []
  }
 ],
 "metadata": {
  "kernelspec": {
   "display_name": "Python 3 (ipykernel)",
   "language": "python",
   "name": "python3"
  },
  "language_info": {
   "codemirror_mode": {
    "name": "ipython",
    "version": 3
   },
   "file_extension": ".py",
   "mimetype": "text/x-python",
   "name": "python",
   "nbconvert_exporter": "python",
   "pygments_lexer": "ipython3",
   "version": "3.11.7"
  }
 },
 "nbformat": 4,
 "nbformat_minor": 5
}
